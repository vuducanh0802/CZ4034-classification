{
  "nbformat": 4,
  "nbformat_minor": 0,
  "metadata": {
    "colab": {
      "provenance": []
    },
    "kernelspec": {
      "name": "python3",
      "display_name": "Python 3"
    },
    "language_info": {
      "name": "python"
    }
  },
  "cells": [
    {
      "cell_type": "code",
      "execution_count": null,
      "metadata": {
        "id": "Jtp2PTNR1c6e"
      },
      "outputs": [],
      "source": [
        "import pandas as pd\n",
        "import numpy as np\n",
        "import regex as re\n",
        "import nltk\n",
        "import matplotlib.pyplot as plt\n",
        "%matplotlib inline\n",
        "import seaborn as sns\n",
        "from nltk.stem import PorterStemmer\n",
        "from nltk.tokenize import word_tokenize\n",
        "from nltk.corpus import stopwords"
      ]
    },
    {
      "cell_type": "code",
      "source": [
        "df_train = pd.read_csv(\"train.csv\", encoding='unicode_escape')\n",
        "df_train[\"content\"] = df_train[\"text\"]\n",
        "df_test = pd.read_csv(\"summarized_test.csv\")\n",
        "df_train['content'] = df_train['content'].astype(str)\n",
        "df_test['content'] = df_test['summary'].astype(str)"
      ],
      "metadata": {
        "id": "ykz0wAD07Vqi"
      },
      "execution_count": null,
      "outputs": []
    },
    {
      "cell_type": "code",
      "source": [
        "print(\"Train set length:\", len(df_train))\n",
        "print(\"Test set length:\", len(df_test))"
      ],
      "metadata": {
        "colab": {
          "base_uri": "https://localhost:8080/"
        },
        "id": "QdZTZg0o7zf9",
        "outputId": "49514a60-7d5a-45e8-d420-73f10b53862c"
      },
      "execution_count": null,
      "outputs": [
        {
          "output_type": "stream",
          "name": "stdout",
          "text": [
            "Train set length: 27481\n",
            "Test set length: 1000\n"
          ]
        }
      ]
    },
    {
      "cell_type": "markdown",
      "source": [
        "### Partitioning"
      ],
      "metadata": {
        "id": "fn9R8Buj-XVi"
      }
    },
    {
      "cell_type": "code",
      "source": [
        "def partition(x):\n",
        "    if x == \"negative\":\n",
        "        return 0\n",
        "    elif x == \"neutral\":\n",
        "        return 2\n",
        "    else:\n",
        "        return 1\n",
        "\n",
        "actualScore = df_train['sentiment']\n",
        "class_ = actualScore.map(partition)\n",
        "df_train['ratings_class'] = class_\n",
        "df_train.ratings_class.value_counts()"
      ],
      "metadata": {
        "colab": {
          "base_uri": "https://localhost:8080/"
        },
        "id": "V0vUS5Ey-Skd",
        "outputId": "a05cf51d-0910-4a73-c3e0-92f3eed58e2e"
      },
      "execution_count": null,
      "outputs": [
        {
          "output_type": "execute_result",
          "data": {
            "text/plain": [
              "ratings_class\n",
              "2    11118\n",
              "1     8582\n",
              "0     7781\n",
              "Name: count, dtype: int64"
            ]
          },
          "metadata": {},
          "execution_count": 4
        }
      ]
    },
    {
      "cell_type": "code",
      "source": [
        "def partition(x):\n",
        "    if x < 3:\n",
        "        return 2\n",
        "    elif x == 3:\n",
        "        return 0\n",
        "    else:\n",
        "        return 1\n",
        "\n",
        "actualScore = df_test['rating']\n",
        "class_ = actualScore.map(partition)\n",
        "df_test['ratings_class'] = class_\n",
        "df_test.ratings_class.value_counts()"
      ],
      "metadata": {
        "colab": {
          "base_uri": "https://localhost:8080/"
        },
        "id": "n2D9sd-SDLLU",
        "outputId": "67f03447-f692-4dae-bbce-992236684e0d"
      },
      "execution_count": null,
      "outputs": [
        {
          "output_type": "execute_result",
          "data": {
            "text/plain": [
              "ratings_class\n",
              "1    896\n",
              "2     64\n",
              "0     40\n",
              "Name: count, dtype: int64"
            ]
          },
          "metadata": {},
          "execution_count": 5
        }
      ]
    },
    {
      "cell_type": "markdown",
      "source": [
        "### Stemming"
      ],
      "metadata": {
        "id": "UdvojKQU8Gg1"
      }
    },
    {
      "cell_type": "code",
      "source": [
        "nltk.download('punkt')\n",
        "nltk.download('stopwords')"
      ],
      "metadata": {
        "colab": {
          "base_uri": "https://localhost:8080/"
        },
        "id": "-p3VUrMu8EMF",
        "outputId": "510856dd-60fd-4139-ede9-56d743935d66"
      },
      "execution_count": null,
      "outputs": [
        {
          "output_type": "stream",
          "name": "stderr",
          "text": [
            "[nltk_data] Downloading package punkt to /root/nltk_data...\n",
            "[nltk_data]   Unzipping tokenizers/punkt.zip.\n",
            "[nltk_data] Downloading package stopwords to /root/nltk_data...\n",
            "[nltk_data]   Unzipping corpora/stopwords.zip.\n"
          ]
        },
        {
          "output_type": "execute_result",
          "data": {
            "text/plain": [
              "True"
            ]
          },
          "metadata": {},
          "execution_count": 6
        }
      ]
    },
    {
      "cell_type": "code",
      "source": [
        "def stemming(x):\n",
        "    stemmer = PorterStemmer()\n",
        "    x = word_tokenize(x)\n",
        "    output = ''\n",
        "\n",
        "    for i in x:\n",
        "        output += stemmer.stem(i) + ' '\n",
        "\n",
        "    return output"
      ],
      "metadata": {
        "id": "X9Szmzjq8I6R"
      },
      "execution_count": null,
      "outputs": []
    },
    {
      "cell_type": "code",
      "source": [
        "df_train['content'] = df_train['content'].apply(stemming)\n",
        "df_test['content'] = df_test['content'].apply(stemming)"
      ],
      "metadata": {
        "id": "c69hFxmI8KYL"
      },
      "execution_count": null,
      "outputs": []
    },
    {
      "cell_type": "markdown",
      "source": [
        "### Lemmatization"
      ],
      "metadata": {
        "id": "YXRVMcvi8bJD"
      }
    },
    {
      "cell_type": "code",
      "source": [
        "nltk.download('wordnet')"
      ],
      "metadata": {
        "colab": {
          "base_uri": "https://localhost:8080/"
        },
        "id": "7W_MZ6p18dLk",
        "outputId": "94e4ccab-7132-4161-ed73-738b23b7064f"
      },
      "execution_count": null,
      "outputs": [
        {
          "output_type": "stream",
          "name": "stderr",
          "text": [
            "[nltk_data] Downloading package wordnet to /root/nltk_data...\n"
          ]
        },
        {
          "output_type": "execute_result",
          "data": {
            "text/plain": [
              "True"
            ]
          },
          "metadata": {},
          "execution_count": 9
        }
      ]
    },
    {
      "cell_type": "code",
      "source": [
        "from nltk.stem import WordNetLemmatizer\n",
        "def get_lemmatized_text(corpus):\n",
        "    lemmatizer = WordNetLemmatizer()\n",
        "    return [' '.join([lemmatizer.lemmatize(word) for word in review.split()]) for review in corpus]"
      ],
      "metadata": {
        "id": "jk3tZN7j8fBD"
      },
      "execution_count": null,
      "outputs": []
    },
    {
      "cell_type": "code",
      "source": [
        "df_train['content'] = get_lemmatized_text(df_train['content'])\n",
        "df_test['content'] = get_lemmatized_text(df_test['content'])"
      ],
      "metadata": {
        "id": "u_Q0K2zg8gcV"
      },
      "execution_count": null,
      "outputs": []
    },
    {
      "cell_type": "markdown",
      "source": [
        "### Removal of Stopwords"
      ],
      "metadata": {
        "id": "zkV973MR8nQJ"
      }
    },
    {
      "cell_type": "code",
      "source": [
        "stop = stopwords.words('english')\n",
        "additional_stopwords = [\"'s\",\"...\",\"'ve\",\"``\",\"''\",\"'m\",'--',\"'ll\",\"'d\"]\n",
        "stop = set(stop + additional_stopwords)\n",
        "def remove_stop(x):\n",
        "    x = word_tokenize(x)\n",
        "    store = ''\n",
        "\n",
        "    for i in x:\n",
        "        if i not in stop:\n",
        "            store += i + ' '\n",
        "\n",
        "    return store"
      ],
      "metadata": {
        "id": "857p2Hzp8mxk"
      },
      "execution_count": null,
      "outputs": []
    },
    {
      "cell_type": "code",
      "source": [
        "df_train['content'] = df_train['content'].apply(remove_stop)\n",
        "df_test['content'] = df_test['content'].apply(remove_stop)"
      ],
      "metadata": {
        "id": "srpbWAjt8qx_"
      },
      "execution_count": null,
      "outputs": []
    },
    {
      "cell_type": "markdown",
      "source": [
        "### Wordcount"
      ],
      "metadata": {
        "id": "5EW2M2-L8-ca"
      }
    },
    {
      "cell_type": "code",
      "source": [
        "wordcount = df_train['content'].apply(lambda x: len(x.split())).sum()\n",
        "print(\"There are {} words in the corpus.\".format(wordcount))"
      ],
      "metadata": {
        "colab": {
          "base_uri": "https://localhost:8080/"
        },
        "id": "AtTzMbag84AH",
        "outputId": "c13ef853-2b18-42f7-b8f2-94a1fb382a35"
      },
      "execution_count": null,
      "outputs": [
        {
          "output_type": "stream",
          "name": "stdout",
          "text": [
            "There are 274428 words in the corpus.\n"
          ]
        }
      ]
    },
    {
      "cell_type": "code",
      "source": [
        "df_train.content.str.split(expand=True).stack().value_counts()"
      ],
      "metadata": {
        "colab": {
          "base_uri": "https://localhost:8080/"
        },
        "id": "pSUvKN5m88fC",
        "outputId": "a4b0594c-15e2-44fb-bfcf-d33bcc1379aa"
      },
      "execution_count": null,
      "outputs": [
        {
          "output_type": "execute_result",
          "data": {
            "text/plain": [
              "!                       15296\n",
              ".                       13910\n",
              "`                       11614\n",
              ",                        8461\n",
              "*                        4953\n",
              "                        ...  \n",
              "kaila                       1\n",
              "//tinyurl.com/64ozr7        1\n",
              "weeaboo                     1\n",
              "boo-hoo                     1\n",
              "atg                         1\n",
              "Name: count, Length: 23257, dtype: int64"
            ]
          },
          "metadata": {},
          "execution_count": 15
        }
      ]
    },
    {
      "cell_type": "markdown",
      "source": [
        "## Naive Bayes Classification"
      ],
      "metadata": {
        "id": "2289cM2M9DR8"
      }
    },
    {
      "cell_type": "code",
      "source": [
        "from sklearn.model_selection import train_test_split\n",
        "\n",
        "import time\n",
        "\n",
        "x_train, x_test, y_train, y_test = df_train[df_train.ratings_class != 2][[\"content\"]], df_test[df_test.Subjectivity == 0][[\"content\"]], \\\n",
        "        df_train[df_train.ratings_class != 2][\"ratings_class\"], df_test[df_test.Subjectivity == 0][\"Positivity\"]\n",
        "\n",
        "start_time = time.time()\n",
        "from sklearn.feature_extraction.text import TfidfVectorizer\n",
        "vectorizer = TfidfVectorizer(use_idf=True, sublinear_tf=True)\n",
        "comment_matrix = vectorizer.fit_transform(x_train['content'])\n",
        "\n",
        "from sklearn.naive_bayes import MultinomialNB\n",
        "comment_classifier = MultinomialNB().fit(comment_matrix, y_train)\n",
        "print(\"--- Training time: %s seconds ---\" % (time.time() - start_time))\n",
        "\n",
        "from sklearn import metrics\n",
        "test_vector = vectorizer.transform(x_test['content'])\n",
        "\n",
        "start_time = time.time()\n",
        "result = comment_classifier.predict(test_vector)\n",
        "print(\"--- Evaluating time: %s seconds ---\" % (time.time() - start_time))\n",
        "confuse = metrics.confusion_matrix(y_test, result)\n",
        "confuse\n"
      ],
      "metadata": {
        "colab": {
          "base_uri": "https://localhost:8080/"
        },
        "id": "YgbJI37c9EsU",
        "outputId": "5fa904d4-23e8-4a84-b7f3-83207db38b22"
      },
      "execution_count": null,
      "outputs": [
        {
          "output_type": "stream",
          "name": "stdout",
          "text": [
            "--- Training time: 0.9800238609313965 seconds ---\n",
            "--- Evaluating time: 0.0009696483612060547 seconds ---\n"
          ]
        },
        {
          "output_type": "execute_result",
          "data": {
            "text/plain": [
              "array([[ 39,  32],\n",
              "       [249, 548]])"
            ]
          },
          "metadata": {},
          "execution_count": 16
        }
      ]
    },
    {
      "cell_type": "code",
      "source": [
        "fig = plt.figure()\n",
        "sns.heatmap(confuse, annot = True, fmt='d')\n",
        "plt.title(\"Confusion matrix of Naive Bayes Classification\")\n",
        "plt.xlabel('Predicted')\n",
        "plt.ylabel('Actual')\n",
        "plt.show()"
      ],
      "metadata": {
        "colab": {
          "base_uri": "https://localhost:8080/",
          "height": 472
        },
        "id": "kSuVlXc2-wjY",
        "outputId": "7dbffa6c-ca73-4120-9939-b90a350c6be9"
      },
      "execution_count": null,
      "outputs": [
        {
          "output_type": "display_data",
          "data": {
            "text/plain": [
              "<Figure size 640x480 with 2 Axes>"
            ],
            "image/png": "[encoded data removed]"
          },
          "metadata": {}
        }
      ]
    },
    {
      "cell_type": "code",
      "source": [
        "F1_score = metrics.f1_score(y_test, result)\n",
        "average_precision = metrics.average_precision_score(y_test, result)\n",
        "precision_score= metrics.precision_score(y_test, result)\n",
        "recall_score = metrics.recall_score(y_test, result)\n",
        "\n",
        "print('F1 score: {0:0.3f}'.format(F1_score))\n",
        "print('Precision score: {0:0.3f}'.format(precision_score))\n",
        "print('Recall score: {0:0.3f}'.format(recall_score))\n",
        "print('Average precision-recall score: {0:0.3f}'.format(\n",
        "      average_precision))"
      ],
      "metadata": {
        "colab": {
          "base_uri": "https://localhost:8080/"
        },
        "id": "pwL2SfTE-zwt",
        "outputId": "b852e264-583f-4af0-c883-9ecd9fe3fcc9"
      },
      "execution_count": null,
      "outputs": [
        {
          "output_type": "stream",
          "name": "stdout",
          "text": [
            "F1 score: 0.796\n",
            "Precision score: 0.945\n",
            "Recall score: 0.688\n",
            "Average precision-recall score: 0.937\n"
          ]
        }
      ]
    },
    {
      "cell_type": "markdown",
      "source": [
        "## KNN"
      ],
      "metadata": {
        "id": "_awkFOTMcHZV"
      }
    },
    {
      "cell_type": "code",
      "source": [
        "from sklearn.model_selection import GridSearchCV\n",
        "from sklearn.neighbors import KNeighborsClassifier\n",
        "\n",
        "metrics = ['euclidean', 'manhattan', 'cosine']\n",
        "neighbors = list(range(1,10))\n",
        "leaf_size = list(range(1,10))\n",
        "weight = ['uniform', 'distance']\n",
        "param_grid = {'metric' : metrics, 'n_neighbors': neighbors, 'weights' : weight, 'leaf_size' : leaf_size}\n",
        "\n",
        "grid_search = GridSearchCV(KNeighborsClassifier(), param_grid, cv=3)\n",
        "grid_search.fit(test_vector, y_test)\n",
        "grid_search.best_params_"
      ],
      "metadata": {
        "colab": {
          "base_uri": "https://localhost:8080/"
        },
        "id": "qihEf1g2cIOa",
        "outputId": "e3e02cb5-8412-4d7f-f809-ad0aa56bd4ae"
      },
      "execution_count": null,
      "outputs": [
        {
          "output_type": "execute_result",
          "data": {
            "text/plain": [
              "{'leaf_size': 1,\n",
              " 'metric': 'euclidean',\n",
              " 'n_neighbors': 4,\n",
              " 'weights': 'distance'}"
            ]
          },
          "metadata": {},
          "execution_count": 19
        }
      ]
    },
    {
      "cell_type": "code",
      "source": [
        "from sklearn.neighbors import KNeighborsClassifier\n",
        "from sklearn import metrics\n",
        "\n",
        "start_time = time.time()\n",
        "knn_model = KNeighborsClassifier(n_neighbors=4, metric='euclidean', leaf_size=1, weights='distance')\n",
        "knn_model.fit(comment_matrix, y_train)\n",
        "print(\"--- Training time: %s seconds ---\" % (time.time() - start_time))\n",
        "\n",
        "test_vector = vectorizer.transform(x_test['content'])\n",
        "start_time = time.time()\n",
        "\n",
        "result = knn_model.predict(test_vector)\n",
        "print(\"--- Evaluating time: %s seconds ---\" % (time.time() - start_time))\n",
        "\n",
        "confuse = metrics.confusion_matrix(y_test, result)\n",
        "confuse"
      ],
      "metadata": {
        "colab": {
          "base_uri": "https://localhost:8080/"
        },
        "id": "xkgtDnfNcKva",
        "outputId": "217bbe9e-b912-49b4-b9ba-82fcaa31f336"
      },
      "execution_count": null,
      "outputs": [
        {
          "output_type": "stream",
          "name": "stdout",
          "text": [
            "--- Training time: 0.021318674087524414 seconds ---\n",
            "--- Evaluating time: 3.755797863006592 seconds ---\n"
          ]
        },
        {
          "output_type": "execute_result",
          "data": {
            "text/plain": [
              "array([[ 47,  24],\n",
              "       [369, 428]])"
            ]
          },
          "metadata": {},
          "execution_count": 20
        }
      ]
    },
    {
      "cell_type": "code",
      "source": [
        "fig = plt.figure()\n",
        "sns.heatmap(confuse, annot = True, fmt='d')\n",
        "plt.title(\"Confusion matrix of KNN Classification\")\n",
        "plt.xlabel('Predicted')\n",
        "plt.ylabel('Actual')\n",
        "plt.show()"
      ],
      "metadata": {
        "colab": {
          "base_uri": "https://localhost:8080/",
          "height": 472
        },
        "id": "rqjiWv2bcTro",
        "outputId": "60919ee6-220f-4639-e9a1-a5bc6e13241f"
      },
      "execution_count": null,
      "outputs": [
        {
          "output_type": "display_data",
          "data": {
            "text/plain": [
              "<Figure size 640x480 with 2 Axes>"
            ],
            "image/png": "[encoded data removed]"
          },
          "metadata": {}
        }
      ]
    },
    {
      "cell_type": "code",
      "source": [
        "F1_score = metrics.f1_score(y_test, result)\n",
        "average_precision = metrics.average_precision_score(y_test, result)\n",
        "precision_score= metrics.precision_score(y_test, result)\n",
        "recall_score = metrics.recall_score(y_test, result)\n",
        "\n",
        "print('F1 score: {0:0.3f}'.format(F1_score))\n",
        "print('Precision score: {0:0.3f}'.format(precision_score))\n",
        "print('Recall score: {0:0.3f}'.format(recall_score))\n",
        "print('Average precision-recall score: {0:0.3f}'.format(average_precision))"
      ],
      "metadata": {
        "colab": {
          "base_uri": "https://localhost:8080/"
        },
        "id": "7N3gch9OcV1j",
        "outputId": "bfc54f0a-c520-4005-9232-3bb30be88dfa"
      },
      "execution_count": null,
      "outputs": [
        {
          "output_type": "stream",
          "name": "stdout",
          "text": [
            "F1 score: 0.685\n",
            "Precision score: 0.947\n",
            "Recall score: 0.537\n",
            "Average precision-recall score: 0.934\n"
          ]
        }
      ]
    },
    {
      "cell_type": "markdown",
      "source": [
        "## SVM"
      ],
      "metadata": {
        "id": "rHFe2emjeJIV"
      }
    },
    {
      "cell_type": "code",
      "source": [
        "# from sklearn import svm\n",
        "# from sklearn.model_selection import GridSearchCV\n",
        "# nfolds=3\n",
        "\n",
        "# Cs = [0.001, 0.01, 0.1, 1, 10]\n",
        "# gammas = [0.05, 0.1, 0.15, 0.20, 0.25]\n",
        "# degrees = [0, 1, 2, 3, 4, 5, 6]\n",
        "# kernels = ['rbf', 'linear', 'poly']\n",
        "# param_grid = {'C': Cs, 'gamma' : gammas, 'degree' : degrees, 'kernel' : kernels}\n",
        "\n",
        "# grid_search = GridSearchCV(svm.SVC(), param_grid, cv = nfolds)\n",
        "# grid_search.fit(test_vector, y_test)\n",
        "# grid_search.best_params_\n",
        "print('''{'C': 0.001, 'degree': 0, 'gamma': 0.05, 'kernel': 'rbf'}''')"
      ],
      "metadata": {
        "colab": {
          "base_uri": "https://localhost:8080/"
        },
        "id": "KYlX3rfGeJhD",
        "outputId": "a41d370b-699d-422b-eecf-69a7fdb8b523"
      },
      "execution_count": null,
      "outputs": [
        {
          "output_type": "stream",
          "name": "stdout",
          "text": [
            "{'C': 1, 'degree': 3, 'gamma': 0.05, 'kernel': 'linear'}\n"
          ]
        }
      ]
    },
    {
      "cell_type": "code",
      "source": [
        "from sklearn import svm\n",
        "start_time = time.time()\n",
        "SVM = svm.SVC(C=0.001, kernel='rbf', gamma=0.05, degree=0).fit(comment_matrix, y_train)\n",
        "print(\"--- Training time: %s seconds ---\" % (time.time() - start_time))\n",
        "\n",
        "test_vector = vectorizer.transform(x_test['content'])\n",
        "start_time = time.time()\n",
        "result = SVM.predict(test_vector)\n",
        "print(\"--- Evaluating time: %s seconds ---\" % (time.time() - start_time))\n",
        "\n",
        "confuse = metrics.confusion_matrix(y_test, result)\n",
        "confuse"
      ],
      "metadata": {
        "colab": {
          "base_uri": "https://localhost:8080/"
        },
        "id": "wCM59nHfeKof",
        "outputId": "f36ba73c-366f-401d-c94c-57b3c38805f4"
      },
      "execution_count": null,
      "outputs": [
        {
          "output_type": "stream",
          "name": "stdout",
          "text": [
            "--- Training time: 42.771034717559814 seconds ---\n",
            "--- Evaluating time: 1.2503111362457275 seconds ---\n"
          ]
        },
        {
          "output_type": "execute_result",
          "data": {
            "text/plain": [
              "array([[  0,  71],\n",
              "       [  0, 797]])"
            ]
          },
          "metadata": {},
          "execution_count": 33
        }
      ]
    },
    {
      "cell_type": "code",
      "source": [
        "fig = plt.figure()\n",
        "sns.heatmap(confuse, annot = True, fmt='d')\n",
        "plt.title(\"Confusion matrix of SVM\")\n",
        "plt.xlabel('Predicted')\n",
        "plt.ylabel('Actual')\n",
        "plt.show()"
      ],
      "metadata": {
        "colab": {
          "base_uri": "https://localhost:8080/",
          "height": 472
        },
        "id": "qNaeQb8rfZ7A",
        "outputId": "0d6064f8-5b5d-406c-83d3-d3748ac5ca16"
      },
      "execution_count": null,
      "outputs": [
        {
          "output_type": "display_data",
          "data": {
            "text/plain": [
              "<Figure size 640x480 with 2 Axes>"
            ],
            "image/png": "[encoded data removed]"
          },
          "metadata": {}
        }
      ]
    },
    {
      "cell_type": "code",
      "source": [
        "F1_score = metrics.f1_score(y_test, result)\n",
        "average_precision = metrics.average_precision_score(y_test, result)\n",
        "precision_score= metrics.precision_score(y_test, result)\n",
        "recall_score = metrics.recall_score(y_test, result)\n",
        "\n",
        "print('F1 score: {0:0.3f}'.format(F1_score))\n",
        "print('Precision score: {0:0.3f}'.format(precision_score))\n",
        "print('Recall score: {0:0.3f}'.format(recall_score))\n",
        "print('Average precision-recall score: {0:0.3f}'.format(average_precision))"
      ],
      "metadata": {
        "colab": {
          "base_uri": "https://localhost:8080/"
        },
        "id": "kYtw9_lVPIYh",
        "outputId": "80632aaf-e0aa-4d23-8f7e-92f77e95ba06"
      },
      "execution_count": null,
      "outputs": [
        {
          "output_type": "stream",
          "name": "stdout",
          "text": [
            "F1 score: 0.957\n",
            "Precision score: 0.918\n",
            "Recall score: 1.000\n",
            "Average precision-recall score: 0.918\n"
          ]
        }
      ]
    }
  ]
}
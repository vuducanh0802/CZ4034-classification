{
  "nbformat": 4,
  "nbformat_minor": 0,
  "metadata": {
    "colab": {
      "provenance": []
    },
    "kernelspec": {
      "name": "python3",
      "display_name": "Python 3"
    },
    "language_info": {
      "name": "python"
    }
  },
  "cells": [
    {
      "cell_type": "code",
      "execution_count": 1,
      "metadata": {
        "id": "Jtp2PTNR1c6e"
      },
      "outputs": [],
      "source": [
        "import pandas as pd\n",
        "import numpy as np\n",
        "import regex as re\n",
        "import nltk\n",
        "import matplotlib.pyplot as plt\n",
        "%matplotlib inline\n",
        "import seaborn as sns\n",
        "from nltk.stem import PorterStemmer\n",
        "from nltk.tokenize import word_tokenize\n",
        "from nltk.corpus import stopwords"
      ]
    },
    {
      "cell_type": "code",
      "source": [
        "df_train = pd.read_csv(\"train.csv\", encoding='unicode_escape')\n",
        "df_train[\"content\"] = df_train[\"text\"]\n",
        "df_test = pd.read_excel(\"test.xlsx\")\n",
        "df_train['content'] = df_train['content'].astype(str)\n",
        "df_test['content'] = df_test['content'].astype(str)"
      ],
      "metadata": {
        "id": "ykz0wAD07Vqi"
      },
      "execution_count": 4,
      "outputs": []
    },
    {
      "cell_type": "code",
      "source": [
        "print(\"Train set length:\", len(df_train))\n",
        "print(\"Test set length:\", len(df_test))"
      ],
      "metadata": {
        "colab": {
          "base_uri": "https://localhost:8080/"
        },
        "id": "QdZTZg0o7zf9",
        "outputId": "ff102fbb-cd6f-45e7-9ed9-f1c037571609"
      },
      "execution_count": 5,
      "outputs": [
        {
          "output_type": "stream",
          "name": "stdout",
          "text": [
            "Train set length: 27481\n",
            "Test set length: 1000\n"
          ]
        }
      ]
    },
    {
      "cell_type": "markdown",
      "source": [
        "### Partitioning"
      ],
      "metadata": {
        "id": "fn9R8Buj-XVi"
      }
    },
    {
      "cell_type": "code",
      "source": [
        "def partition(x):\n",
        "    if x == \"negative\":\n",
        "        return 0\n",
        "    elif x == \"neutral\":\n",
        "        return 2\n",
        "    else:\n",
        "        return 1\n",
        "\n",
        "actualScore = df_train['sentiment']\n",
        "class_ = actualScore.map(partition)\n",
        "df_train['ratings_class'] = class_\n",
        "df_train.ratings_class.value_counts()"
      ],
      "metadata": {
        "colab": {
          "base_uri": "https://localhost:8080/"
        },
        "id": "V0vUS5Ey-Skd",
        "outputId": "8d7f63a0-1577-4dd4-f5ba-03d85d8073c5"
      },
      "execution_count": 6,
      "outputs": [
        {
          "output_type": "execute_result",
          "data": {
            "text/plain": [
              "2    11118\n",
              "1     8582\n",
              "0     7781\n",
              "Name: ratings_class, dtype: int64"
            ]
          },
          "metadata": {},
          "execution_count": 6
        }
      ]
    },
    {
      "cell_type": "code",
      "source": [
        "def partition(x):\n",
        "    if x < 3:\n",
        "        return 2\n",
        "    elif x == 3:\n",
        "        return 0\n",
        "    else:\n",
        "        return 1\n",
        "\n",
        "actualScore = df_test['rating']\n",
        "class_ = actualScore.map(partition)\n",
        "df_test['ratings_class'] = class_\n",
        "df_test.ratings_class.value_counts()"
      ],
      "metadata": {
        "colab": {
          "base_uri": "https://localhost:8080/"
        },
        "id": "n2D9sd-SDLLU",
        "outputId": "bee7fd90-356c-433b-bc08-35b13944284e"
      },
      "execution_count": 7,
      "outputs": [
        {
          "output_type": "execute_result",
          "data": {
            "text/plain": [
              "1    896\n",
              "2     64\n",
              "0     40\n",
              "Name: ratings_class, dtype: int64"
            ]
          },
          "metadata": {},
          "execution_count": 7
        }
      ]
    },
    {
      "cell_type": "markdown",
      "source": [
        "### Stemming"
      ],
      "metadata": {
        "id": "UdvojKQU8Gg1"
      }
    },
    {
      "cell_type": "code",
      "source": [
        "nltk.download('punkt')\n",
        "nltk.download('stopwords')"
      ],
      "metadata": {
        "colab": {
          "base_uri": "https://localhost:8080/"
        },
        "id": "-p3VUrMu8EMF",
        "outputId": "d67ccff1-eed1-46ae-8cd3-b63d213e480e"
      },
      "execution_count": 8,
      "outputs": [
        {
          "output_type": "stream",
          "name": "stderr",
          "text": [
            "[nltk_data] Downloading package punkt to /root/nltk_data...\n",
            "[nltk_data]   Unzipping tokenizers/punkt.zip.\n",
            "[nltk_data] Downloading package stopwords to /root/nltk_data...\n",
            "[nltk_data]   Unzipping corpora/stopwords.zip.\n"
          ]
        },
        {
          "output_type": "execute_result",
          "data": {
            "text/plain": [
              "True"
            ]
          },
          "metadata": {},
          "execution_count": 8
        }
      ]
    },
    {
      "cell_type": "code",
      "source": [
        "def stemming(x):\n",
        "    stemmer = PorterStemmer()\n",
        "    x = word_tokenize(x)\n",
        "    output = ''\n",
        "\n",
        "    for i in x:\n",
        "        output += stemmer.stem(i) + ' '\n",
        "\n",
        "    return output"
      ],
      "metadata": {
        "id": "X9Szmzjq8I6R"
      },
      "execution_count": 9,
      "outputs": []
    },
    {
      "cell_type": "code",
      "source": [
        "df_train['content'] = df_train['content'].apply(stemming)\n",
        "df_test['content'] = df_test['content'].apply(stemming)"
      ],
      "metadata": {
        "id": "c69hFxmI8KYL"
      },
      "execution_count": 10,
      "outputs": []
    },
    {
      "cell_type": "markdown",
      "source": [
        "### Lemmatization"
      ],
      "metadata": {
        "id": "YXRVMcvi8bJD"
      }
    },
    {
      "cell_type": "code",
      "source": [
        "nltk.download('wordnet')"
      ],
      "metadata": {
        "colab": {
          "base_uri": "https://localhost:8080/"
        },
        "id": "7W_MZ6p18dLk",
        "outputId": "33812c57-0f61-4ad3-d2e4-de7067e6c202"
      },
      "execution_count": 11,
      "outputs": [
        {
          "output_type": "stream",
          "name": "stderr",
          "text": [
            "[nltk_data] Downloading package wordnet to /root/nltk_data...\n"
          ]
        },
        {
          "output_type": "execute_result",
          "data": {
            "text/plain": [
              "True"
            ]
          },
          "metadata": {},
          "execution_count": 11
        }
      ]
    },
    {
      "cell_type": "code",
      "source": [
        "from nltk.stem import WordNetLemmatizer\n",
        "def get_lemmatized_text(corpus):\n",
        "    lemmatizer = WordNetLemmatizer()\n",
        "    return [' '.join([lemmatizer.lemmatize(word) for word in review.split()]) for review in corpus]"
      ],
      "metadata": {
        "id": "jk3tZN7j8fBD"
      },
      "execution_count": 12,
      "outputs": []
    },
    {
      "cell_type": "code",
      "source": [
        "df_train['content'] = get_lemmatized_text(df_train['content'])\n",
        "df_test['content'] = get_lemmatized_text(df_test['content'])"
      ],
      "metadata": {
        "id": "u_Q0K2zg8gcV"
      },
      "execution_count": 13,
      "outputs": []
    },
    {
      "cell_type": "markdown",
      "source": [
        "### Removal of Stopwords"
      ],
      "metadata": {
        "id": "zkV973MR8nQJ"
      }
    },
    {
      "cell_type": "code",
      "source": [
        "stop = stopwords.words('english')\n",
        "additional_stopwords = [\"'s\",\"...\",\"'ve\",\"``\",\"''\",\"'m\",'--',\"'ll\",\"'d\"]\n",
        "stop = set(stop + additional_stopwords)\n",
        "def remove_stop(x):\n",
        "    x = word_tokenize(x)\n",
        "    store = ''\n",
        "\n",
        "    for i in x:\n",
        "        if i not in stop:\n",
        "            store += i + ' '\n",
        "\n",
        "    return store"
      ],
      "metadata": {
        "id": "857p2Hzp8mxk"
      },
      "execution_count": 14,
      "outputs": []
    },
    {
      "cell_type": "code",
      "source": [
        "df_train['content'] = df_train['content'].apply(remove_stop)\n",
        "df_test['content'] = df_test['content'].apply(remove_stop)"
      ],
      "metadata": {
        "id": "srpbWAjt8qx_"
      },
      "execution_count": 15,
      "outputs": []
    },
    {
      "cell_type": "markdown",
      "source": [
        "### Wordcount"
      ],
      "metadata": {
        "id": "5EW2M2-L8-ca"
      }
    },
    {
      "cell_type": "code",
      "source": [
        "wordcount = df_train['content'].apply(lambda x: len(x.split())).sum()\n",
        "print(\"There are {} words in the corpus.\".format(wordcount))"
      ],
      "metadata": {
        "colab": {
          "base_uri": "https://localhost:8080/"
        },
        "id": "AtTzMbag84AH",
        "outputId": "85c1fba0-9e89-4a01-df92-5596fd69f342"
      },
      "execution_count": null,
      "outputs": [
        {
          "output_type": "stream",
          "name": "stdout",
          "text": [
            "There are 348361 words in the corpus.\n"
          ]
        }
      ]
    },
    {
      "cell_type": "code",
      "source": [
        "df_train.content.str.split(expand=True).stack().value_counts()"
      ],
      "metadata": {
        "colab": {
          "base_uri": "https://localhost:8080/"
        },
        "id": "pSUvKN5m88fC",
        "outputId": "c0de5928-e63b-4f9d-9ea9-6390fed32a2c"
      },
      "execution_count": null,
      "outputs": [
        {
          "output_type": "execute_result",
          "data": {
            "text/plain": [
              ".                  23610\n",
              ",                  17075\n",
              "thi                 5067\n",
              "!                   3626\n",
              "wa                  2658\n",
              "                   ...  \n",
              "fingerswhen            1\n",
              "installationcon        1\n",
              "desempeño.poco         1\n",
              "ofa                    1\n",
              "monopoli               1\n",
              "Length: 32450, dtype: int64"
            ]
          },
          "metadata": {},
          "execution_count": 71
        }
      ]
    },
    {
      "cell_type": "markdown",
      "source": [
        "## Naive Bayes Classification"
      ],
      "metadata": {
        "id": "2289cM2M9DR8"
      }
    },
    {
      "cell_type": "code",
      "source": [
        "from sklearn.model_selection import train_test_split\n",
        "\n",
        "import time\n",
        "\n",
        "x_train, x_test, y_train, y_test = df_train[df_train.ratings_class != 2][[\"content\"]], df_test[df_test.Subjectivity == 0][[\"content\"]], \\\n",
        "        df_train[df_train.ratings_class != 2][\"ratings_class\"], df_test[df_test.Subjectivity == 0][\"Positivity\"]\n",
        "\n",
        "start_time = time.time()\n",
        "from sklearn.feature_extraction.text import TfidfVectorizer\n",
        "vectorizer = TfidfVectorizer(use_idf=True, sublinear_tf=True)\n",
        "comment_matrix = vectorizer.fit_transform(x_train['content'])\n",
        "\n",
        "from sklearn.naive_bayes import MultinomialNB\n",
        "comment_classifier = MultinomialNB().fit(comment_matrix, y_train)\n",
        "print(\"--- Training time: %s seconds ---\" % (time.time() - start_time))\n",
        "\n",
        "from sklearn import metrics\n",
        "test_vector = vectorizer.transform(x_test['content'])\n",
        "\n",
        "start_time = time.time()\n",
        "result = comment_classifier.predict(test_vector)\n",
        "print(\"--- Evaluating time: %s seconds ---\" % (time.time() - start_time))\n",
        "confuse = metrics.confusion_matrix(y_test, result)\n",
        "confuse\n"
      ],
      "metadata": {
        "colab": {
          "base_uri": "https://localhost:8080/"
        },
        "id": "YgbJI37c9EsU",
        "outputId": "d94f2d00-76d6-4f73-ef81-c635eed5bdc7"
      },
      "execution_count": 16,
      "outputs": [
        {
          "output_type": "stream",
          "name": "stdout",
          "text": [
            "--- Training time: 0.20207834243774414 seconds ---\n",
            "--- Evaluating time: 0.0006074905395507812 seconds ---\n"
          ]
        },
        {
          "output_type": "execute_result",
          "data": {
            "text/plain": [
              "array([[ 43,  28],\n",
              "       [262, 535]])"
            ]
          },
          "metadata": {},
          "execution_count": 16
        }
      ]
    },
    {
      "cell_type": "code",
      "source": [
        "fig = plt.figure()\n",
        "sns.heatmap(confuse, annot = True, fmt='d')\n",
        "plt.title(\"Confusion matrix of Naive Bayes Classification\")\n",
        "plt.xlabel('Predicted')\n",
        "plt.ylabel('Actual')\n",
        "plt.show()"
      ],
      "metadata": {
        "colab": {
          "base_uri": "https://localhost:8080/",
          "height": 472
        },
        "id": "kSuVlXc2-wjY",
        "outputId": "9f07f9e2-19c9-4a7b-b3e2-6b44f917f5fa"
      },
      "execution_count": null,
      "outputs": [
        {
          "output_type": "display_data",
          "data": {
            "text/plain": [
              "<Figure size 640x480 with 2 Axes>"
            ],
            "image/png": "[encoded data removed]"
          },
          "metadata": {}
        }
      ]
    },
    {
      "cell_type": "code",
      "source": [
        "F1_score = metrics.f1_score(y_test, result)\n",
        "average_precision = metrics.average_precision_score(y_test, result)\n",
        "precision_score= metrics.precision_score(y_test, result)\n",
        "recall_score = metrics.recall_score(y_test, result)\n",
        "\n",
        "print('F1 score: {0:0.3f}'.format(F1_score))\n",
        "print('Precision score: {0:0.3f}'.format(precision_score))\n",
        "print('Recall score: {0:0.3f}'.format(recall_score))\n",
        "print('Average precision-recall score: {0:0.3f}'.format(\n",
        "      average_precision))"
      ],
      "metadata": {
        "colab": {
          "base_uri": "https://localhost:8080/"
        },
        "id": "pwL2SfTE-zwt",
        "outputId": "c28f20bd-e4f9-4bd5-bd03-a8ed5d477fe2"
      },
      "execution_count": null,
      "outputs": [
        {
          "output_type": "stream",
          "name": "stdout",
          "text": [
            "F1 score: 0.785\n",
            "Precision score: 0.950\n",
            "Recall score: 0.669\n",
            "Average precision-recall score: 0.940\n"
          ]
        }
      ]
    },
    {
      "cell_type": "markdown",
      "source": [
        "## KNN"
      ],
      "metadata": {
        "id": "_awkFOTMcHZV"
      }
    },
    {
      "cell_type": "code",
      "source": [
        "from sklearn.model_selection import GridSearchCV\n",
        "from sklearn.neighbors import KNeighborsClassifier\n",
        "\n",
        "metrics = ['euclidean', 'manhattan', 'cosine']\n",
        "neighbors = list(range(1,10))\n",
        "leaf_size = list(range(1,10))\n",
        "weight = ['uniform', 'distance']\n",
        "param_grid = {'metric' : metrics, 'n_neighbors': neighbors, 'weights' : weight, 'leaf_size' : leaf_size}\n",
        "\n",
        "grid_search = GridSearchCV(KNeighborsClassifier(), param_grid, cv=3)\n",
        "grid_search.fit(test_vector, y_test)\n",
        "grid_search.best_params_"
      ],
      "metadata": {
        "colab": {
          "base_uri": "https://localhost:8080/"
        },
        "id": "qihEf1g2cIOa",
        "outputId": "d545e062-c5df-4fae-8403-1b5024f71261"
      },
      "execution_count": null,
      "outputs": [
        {
          "output_type": "execute_result",
          "data": {
            "text/plain": [
              "{'leaf_size': 1, 'metric': 'cosine', 'n_neighbors': 6, 'weights': 'uniform'}"
            ]
          },
          "metadata": {},
          "execution_count": 209
        }
      ]
    },
    {
      "cell_type": "code",
      "source": [
        "from sklearn.neighbors import KNeighborsClassifier\n",
        "from sklearn import metrics\n",
        "\n",
        "start_time = time.time()\n",
        "knn_model = KNeighborsClassifier(n_neighbors=6, metric='cosine', leaf_size=1, weights='uniform')\n",
        "knn_model.fit(comment_matrix, y_train)\n",
        "print(\"--- Training time: %s seconds ---\" % (time.time() - start_time))\n",
        "\n",
        "test_vector = vectorizer.transform(x_test['content'])\n",
        "start_time = time.time()\n",
        "\n",
        "result = knn_model.predict(test_vector)\n",
        "print(\"--- Evaluating time: %s seconds ---\" % (time.time() - start_time))\n",
        "\n",
        "confuse = metrics.confusion_matrix(y_test, result)\n",
        "confuse"
      ],
      "metadata": {
        "colab": {
          "base_uri": "https://localhost:8080/"
        },
        "id": "xkgtDnfNcKva",
        "outputId": "a2e541cb-5092-4d37-8e9e-216f1afd0caa"
      },
      "execution_count": null,
      "outputs": [
        {
          "output_type": "stream",
          "name": "stdout",
          "text": [
            "--- Training time: 0.004607677459716797 seconds ---\n",
            "--- Evaluating time: 0.6111726760864258 seconds ---\n"
          ]
        },
        {
          "output_type": "execute_result",
          "data": {
            "text/plain": [
              "array([[ 42,  29],\n",
              "       [393, 404]])"
            ]
          },
          "metadata": {},
          "execution_count": 226
        }
      ]
    },
    {
      "cell_type": "code",
      "source": [
        "fig = plt.figure()\n",
        "sns.heatmap(confuse, annot = True, fmt='d')\n",
        "plt.title(\"Confusion matrix of KNN Classification\")\n",
        "plt.xlabel('Predicted')\n",
        "plt.ylabel('Actual')\n",
        "plt.show()"
      ],
      "metadata": {
        "colab": {
          "base_uri": "https://localhost:8080/",
          "height": 472
        },
        "id": "rqjiWv2bcTro",
        "outputId": "ce0a3bb1-0f45-4cf1-bcc4-cc18df41be0c"
      },
      "execution_count": null,
      "outputs": [
        {
          "output_type": "display_data",
          "data": {
            "text/plain": [
              "<Figure size 640x480 with 2 Axes>"
            ],
            "image/png": "[encoded data removed]"
          },
          "metadata": {}
        }
      ]
    },
    {
      "cell_type": "code",
      "source": [
        "F1_score = metrics.f1_score(y_test, result)\n",
        "average_precision = metrics.average_precision_score(y_test, result)\n",
        "precision_score= metrics.precision_score(y_test, result)\n",
        "recall_score = metrics.recall_score(y_test, result)\n",
        "\n",
        "print('F1 score: {0:0.3f}'.format(F1_score))\n",
        "print('Precision score: {0:0.3f}'.format(precision_score))\n",
        "print('Recall score: {0:0.3f}'.format(recall_score))\n",
        "print('Average precision-recall score: {0:0.3f}'.format(average_precision))"
      ],
      "metadata": {
        "colab": {
          "base_uri": "https://localhost:8080/"
        },
        "id": "7N3gch9OcV1j",
        "outputId": "82068b4b-f397-45ac-c184-f3cde12cea70"
      },
      "execution_count": null,
      "outputs": [
        {
          "output_type": "stream",
          "name": "stdout",
          "text": [
            "F1 score: 0.657\n",
            "Precision score: 0.933\n",
            "Recall score: 0.507\n",
            "Average precision-recall score: 0.926\n"
          ]
        }
      ]
    },
    {
      "cell_type": "markdown",
      "source": [
        "## SVM"
      ],
      "metadata": {
        "id": "rHFe2emjeJIV"
      }
    },
    {
      "cell_type": "code",
      "source": [
        "from sklearn import svm\n",
        "from sklearn.model_selection import GridSearchCV\n",
        "nfolds=3\n",
        "\n",
        "Cs = [0.001, 0.01, 0.1, 1, 10]\n",
        "gammas = [0.05, 0.1, 0.15, 0.20, 0.25]\n",
        "degrees = [0, 1, 2, 3, 4, 5, 6]\n",
        "kernels = ['rbf', 'linear', 'poly']\n",
        "param_grid = {'C': Cs, 'gamma' : gammas, 'degree' : degrees, 'kernel' : kernels}\n",
        "\n",
        "grid_search = GridSearchCV(svm.SVC(), param_grid, cv = nfolds)\n",
        "grid_search.fit(test_vector, y_test)\n",
        "grid_search.best_params_"
      ],
      "metadata": {
        "colab": {
          "base_uri": "https://localhost:8080/"
        },
        "id": "KYlX3rfGeJhD",
        "outputId": "de4b7e5f-be5f-4301-e661-e772df7ec8f4"
      },
      "execution_count": null,
      "outputs": [
        {
          "output_type": "execute_result",
          "data": {
            "text/plain": [
              "{'C': 0.001, 'degree': 0, 'gamma': 0.05, 'kernel': 'rbf'}"
            ]
          },
          "metadata": {},
          "execution_count": 214
        }
      ]
    },
    {
      "cell_type": "code",
      "source": [
        "from sklearn import svm\n",
        "start_time = time.time()\n",
        "SVM = svm.SVC(C=0.001, kernel='rbf', gamma=0.05, degree=0).fit(comment_matrix, y_train)\n",
        "print(\"--- Training time: %s seconds ---\" % (time.time() - start_time))\n",
        "\n",
        "test_vector = vectorizer.transform(x_test['content'])\n",
        "start_time = time.time()\n",
        "result = SVM.predict(test_vector)\n",
        "print(\"--- Evaluating time: %s seconds ---\" % (time.time() - start_time))\n",
        "\n",
        "confuse = metrics.confusion_matrix(y_test, result)\n",
        "confuse"
      ],
      "metadata": {
        "colab": {
          "base_uri": "https://localhost:8080/"
        },
        "id": "wCM59nHfeKof",
        "outputId": "ed7a3039-5beb-452b-aa89-0e6a1c9f6d56"
      },
      "execution_count": 17,
      "outputs": [
        {
          "output_type": "stream",
          "name": "stdout",
          "text": [
            "--- Training time: 44.691153049468994 seconds ---\n",
            "--- Evaluating time: 1.8176426887512207 seconds ---\n"
          ]
        },
        {
          "output_type": "execute_result",
          "data": {
            "text/plain": [
              "array([[  0,  71],\n",
              "       [  0, 797]])"
            ]
          },
          "metadata": {},
          "execution_count": 17
        }
      ]
    },
    {
      "cell_type": "code",
      "source": [
        "fig = plt.figure()\n",
        "sns.heatmap(confuse, annot = True, fmt='d')\n",
        "plt.title(\"Confusion matrix of SVM\")\n",
        "plt.xlabel('Predicted')\n",
        "plt.ylabel('Actual')\n",
        "plt.show()"
      ],
      "metadata": {
        "colab": {
          "base_uri": "https://localhost:8080/",
          "height": 472
        },
        "id": "qNaeQb8rfZ7A",
        "outputId": "e6dd49a6-f0bc-404f-a4e5-7f93fd8b42fd"
      },
      "execution_count": 18,
      "outputs": [
        {
          "output_type": "display_data",
          "data": {
            "text/plain": [
              "<Figure size 640x480 with 2 Axes>"
            ],
            "image/png": "[encoded data removed]"
          },
          "metadata": {}
        }
      ]
    },
    {
      "cell_type": "code",
      "source": [
        "F1_score = metrics.f1_score(y_test, result)\n",
        "average_precision = metrics.average_precision_score(y_test, result)\n",
        "precision_score= metrics.precision_score(y_test, result)\n",
        "recall_score = metrics.recall_score(y_test, result)\n",
        "\n",
        "print('F1 score: {0:0.3f}'.format(F1_score))\n",
        "print('Precision score: {0:0.3f}'.format(precision_score))\n",
        "print('Recall score: {0:0.3f}'.format(recall_score))\n",
        "print('Average precision-recall score: {0:0.3f}'.format(average_precision))"
      ],
      "metadata": {
        "colab": {
          "base_uri": "https://localhost:8080/"
        },
        "id": "kYtw9_lVPIYh",
        "outputId": "2c850b14-7f29-46f6-98eb-e45b09e191b5"
      },
      "execution_count": 19,
      "outputs": [
        {
          "output_type": "stream",
          "name": "stdout",
          "text": [
            "F1 score: 0.957\n",
            "Precision score: 0.918\n",
            "Recall score: 1.000\n",
            "Average precision-recall score: 0.918\n"
          ]
        }
      ]
    }
  ]
}
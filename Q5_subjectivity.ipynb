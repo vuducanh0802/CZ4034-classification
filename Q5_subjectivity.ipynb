{
  "nbformat": 4,
  "nbformat_minor": 0,
  "metadata": {
    "colab": {
      "provenance": []
    },
    "kernelspec": {
      "name": "python3",
      "display_name": "Python 3"
    },
    "language_info": {
      "name": "python"
    }
  },
  "cells": [
    {
      "cell_type": "code",
      "execution_count": null,
      "metadata": {
        "id": "Jtp2PTNR1c6e"
      },
      "outputs": [],
      "source": [
        "import pandas as pd\n",
        "import numpy as np\n",
        "import regex as re\n",
        "import nltk\n",
        "import matplotlib.pyplot as plt\n",
        "%matplotlib inline\n",
        "import seaborn as sns\n",
        "from nltk.stem import PorterStemmer\n",
        "from nltk.tokenize import word_tokenize\n",
        "from nltk.corpus import stopwords"
      ]
    },
    {
      "cell_type": "code",
      "source": [
        "df_train = pd.read_csv(\"train.csv\", encoding='unicode_escape')\n",
        "df_train[\"content\"] = df_train[\"text\"]\n",
        "df_test = pd.read_csv(\"summarized_test.csv\")\n",
        "df_train['content'] = df_train['content'].astype(str)\n",
        "df_test['content'] = df_test['summary'].astype(str)"
      ],
      "metadata": {
        "id": "ykz0wAD07Vqi"
      },
      "execution_count": null,
      "outputs": []
    },
    {
      "cell_type": "code",
      "source": [
        "print(\"Train set length:\", len(df_train))\n",
        "print(\"Test set length:\", len(df_test))"
      ],
      "metadata": {
        "colab": {
          "base_uri": "https://localhost:8080/"
        },
        "id": "QdZTZg0o7zf9",
        "outputId": "0215d4e2-34a5-4435-9b01-dafae75d89a3"
      },
      "execution_count": null,
      "outputs": [
        {
          "output_type": "stream",
          "name": "stdout",
          "text": [
            "Train set length: 27481\n",
            "Test set length: 1000\n"
          ]
        }
      ]
    },
    {
      "cell_type": "markdown",
      "source": [
        "### Partitioning"
      ],
      "metadata": {
        "id": "fn9R8Buj-XVi"
      }
    },
    {
      "cell_type": "code",
      "source": [
        "def partition(x):\n",
        "    if x == \"neutral\":\n",
        "        return 1\n",
        "    else:\n",
        "        return 0\n",
        "\n",
        "actualScore = df_train['sentiment']\n",
        "class_ = actualScore.map(partition)\n",
        "df_train['Subjectivity'] = class_\n",
        "df_train.Subjectivity.value_counts()"
      ],
      "metadata": {
        "colab": {
          "base_uri": "https://localhost:8080/"
        },
        "id": "V0vUS5Ey-Skd",
        "outputId": "a97d72df-c481-4c9b-a624-bee7c52ade83"
      },
      "execution_count": null,
      "outputs": [
        {
          "output_type": "execute_result",
          "data": {
            "text/plain": [
              "Subjectivity\n",
              "0    16363\n",
              "1    11118\n",
              "Name: count, dtype: int64"
            ]
          },
          "metadata": {},
          "execution_count": 5
        }
      ]
    },
    {
      "cell_type": "markdown",
      "source": [
        "### Stemming"
      ],
      "metadata": {
        "id": "UdvojKQU8Gg1"
      }
    },
    {
      "cell_type": "code",
      "source": [
        "nltk.download('punkt')\n",
        "nltk.download('stopwords')"
      ],
      "metadata": {
        "colab": {
          "base_uri": "https://localhost:8080/"
        },
        "id": "-p3VUrMu8EMF",
        "outputId": "0305596e-f02b-4f45-b310-66d31b0e5d8f"
      },
      "execution_count": null,
      "outputs": [
        {
          "output_type": "stream",
          "name": "stderr",
          "text": [
            "[nltk_data] Downloading package punkt to /root/nltk_data...\n",
            "[nltk_data]   Unzipping tokenizers/punkt.zip.\n",
            "[nltk_data] Downloading package stopwords to /root/nltk_data...\n",
            "[nltk_data]   Unzipping corpora/stopwords.zip.\n"
          ]
        },
        {
          "output_type": "execute_result",
          "data": {
            "text/plain": [
              "True"
            ]
          },
          "metadata": {},
          "execution_count": 6
        }
      ]
    },
    {
      "cell_type": "code",
      "source": [
        "def stemming(x):\n",
        "    stemmer = PorterStemmer()\n",
        "    x = word_tokenize(x)\n",
        "    output = ''\n",
        "\n",
        "    for i in x:\n",
        "        output += stemmer.stem(i) + ' '\n",
        "\n",
        "    return output"
      ],
      "metadata": {
        "id": "X9Szmzjq8I6R"
      },
      "execution_count": null,
      "outputs": []
    },
    {
      "cell_type": "code",
      "source": [
        "df_train['content'] = df_train['content'].apply(stemming)\n",
        "df_test['content'] = df_test['content'].apply(stemming)"
      ],
      "metadata": {
        "id": "c69hFxmI8KYL"
      },
      "execution_count": null,
      "outputs": []
    },
    {
      "cell_type": "markdown",
      "source": [
        "### Lemmatization"
      ],
      "metadata": {
        "id": "YXRVMcvi8bJD"
      }
    },
    {
      "cell_type": "code",
      "source": [
        "nltk.download('wordnet')"
      ],
      "metadata": {
        "colab": {
          "base_uri": "https://localhost:8080/"
        },
        "id": "7W_MZ6p18dLk",
        "outputId": "2860cd24-e7cc-4abd-e01a-5ee5f3546138"
      },
      "execution_count": null,
      "outputs": [
        {
          "output_type": "stream",
          "name": "stderr",
          "text": [
            "[nltk_data] Downloading package wordnet to /root/nltk_data...\n"
          ]
        },
        {
          "output_type": "execute_result",
          "data": {
            "text/plain": [
              "True"
            ]
          },
          "metadata": {},
          "execution_count": 9
        }
      ]
    },
    {
      "cell_type": "code",
      "source": [
        "from nltk.stem import WordNetLemmatizer\n",
        "def get_lemmatized_text(corpus):\n",
        "    lemmatizer = WordNetLemmatizer()\n",
        "    return [' '.join([lemmatizer.lemmatize(word) for word in review.split()]) for review in corpus]"
      ],
      "metadata": {
        "id": "jk3tZN7j8fBD"
      },
      "execution_count": null,
      "outputs": []
    },
    {
      "cell_type": "code",
      "source": [
        "df_train['content'] = get_lemmatized_text(df_train['content'])\n",
        "df_test['content'] = get_lemmatized_text(df_test['content'])"
      ],
      "metadata": {
        "id": "u_Q0K2zg8gcV"
      },
      "execution_count": null,
      "outputs": []
    },
    {
      "cell_type": "markdown",
      "source": [
        "### Removal of Stopwords"
      ],
      "metadata": {
        "id": "zkV973MR8nQJ"
      }
    },
    {
      "cell_type": "code",
      "source": [
        "stop = stopwords.words('english')\n",
        "additional_stopwords = [\"'s\",\"...\",\"'ve\",\"``\",\"''\",\"'m\",'--',\"'ll\",\"'d\"]\n",
        "stop = set(stop + additional_stopwords)\n",
        "def remove_stop(x):\n",
        "    x = word_tokenize(x)\n",
        "    store = ''\n",
        "\n",
        "    for i in x:\n",
        "        if i not in stop:\n",
        "            store += i + ' '\n",
        "\n",
        "    return store"
      ],
      "metadata": {
        "id": "857p2Hzp8mxk"
      },
      "execution_count": null,
      "outputs": []
    },
    {
      "cell_type": "code",
      "source": [
        "df_train['content'] = df_train['content'].apply(remove_stop)\n",
        "df_test['content'] = df_test['content'].apply(remove_stop)"
      ],
      "metadata": {
        "id": "srpbWAjt8qx_"
      },
      "execution_count": null,
      "outputs": []
    },
    {
      "cell_type": "markdown",
      "source": [
        "### Wordcount"
      ],
      "metadata": {
        "id": "5EW2M2-L8-ca"
      }
    },
    {
      "cell_type": "code",
      "source": [
        "wordcount = df_train['content'].apply(lambda x: len(x.split())).sum()\n",
        "print(\"There are {} words in the corpus.\".format(wordcount))"
      ],
      "metadata": {
        "colab": {
          "base_uri": "https://localhost:8080/"
        },
        "id": "AtTzMbag84AH",
        "outputId": "f41521bc-5c12-459c-b85b-2516f40b8006"
      },
      "execution_count": null,
      "outputs": [
        {
          "output_type": "stream",
          "name": "stdout",
          "text": [
            "There are 274428 words in the corpus.\n"
          ]
        }
      ]
    },
    {
      "cell_type": "code",
      "source": [
        "df_train.content.str.split(expand=True).stack().value_counts()"
      ],
      "metadata": {
        "colab": {
          "base_uri": "https://localhost:8080/"
        },
        "id": "pSUvKN5m88fC",
        "outputId": "d8bff93d-22ad-4220-c1bb-fffd4fbfcc52"
      },
      "execution_count": null,
      "outputs": [
        {
          "output_type": "execute_result",
          "data": {
            "text/plain": [
              "!                       15296\n",
              ".                       13910\n",
              "`                       11614\n",
              ",                        8461\n",
              "*                        4953\n",
              "                        ...  \n",
              "kaila                       1\n",
              "//tinyurl.com/64ozr7        1\n",
              "weeaboo                     1\n",
              "boo-hoo                     1\n",
              "atg                         1\n",
              "Name: count, Length: 23257, dtype: int64"
            ]
          },
          "metadata": {},
          "execution_count": 15
        }
      ]
    },
    {
      "cell_type": "markdown",
      "source": [
        "## Naive Bayes Classification"
      ],
      "metadata": {
        "id": "2289cM2M9DR8"
      }
    },
    {
      "cell_type": "code",
      "source": [
        "df_test.Subjectivity.value_counts()"
      ],
      "metadata": {
        "colab": {
          "base_uri": "https://localhost:8080/"
        },
        "id": "33vyuKAijPea",
        "outputId": "9d01e66c-3417-4645-d373-ec3adb913483"
      },
      "execution_count": null,
      "outputs": [
        {
          "output_type": "execute_result",
          "data": {
            "text/plain": [
              "Subjectivity\n",
              "0    868\n",
              "1    132\n",
              "Name: count, dtype: int64"
            ]
          },
          "metadata": {},
          "execution_count": 16
        }
      ]
    },
    {
      "cell_type": "code",
      "source": [
        "from sklearn.model_selection import train_test_split\n",
        "\n",
        "import time\n",
        "\n",
        "x_train, x_test, y_train, y_test = df_train[[\"content\"]], df_test[[\"content\"]], \\\n",
        "        df_train[\"Subjectivity\"], df_test[\"Subjectivity\"]\n",
        "\n",
        "start_time = time.time()\n",
        "from sklearn.feature_extraction.text import TfidfVectorizer\n",
        "vectorizer = TfidfVectorizer(use_idf=True, sublinear_tf=True)\n",
        "comment_matrix = vectorizer.fit_transform(x_train['content'])\n",
        "\n",
        "from sklearn.naive_bayes import MultinomialNB\n",
        "comment_classifier = MultinomialNB().fit(comment_matrix, y_train)\n",
        "print(\"--- Training time: %s seconds ---\" % (time.time() - start_time))\n",
        "\n",
        "from sklearn import metrics\n",
        "test_vector = vectorizer.transform(x_test['content'])\n",
        "\n",
        "start_time = time.time()\n",
        "result = comment_classifier.predict(test_vector)\n",
        "print(\"--- Evaluating time: %s seconds ---\" % (time.time() - start_time))\n",
        "confuse = metrics.confusion_matrix(y_test, result)\n",
        "confuse\n"
      ],
      "metadata": {
        "colab": {
          "base_uri": "https://localhost:8080/"
        },
        "id": "YgbJI37c9EsU",
        "outputId": "7bee6530-7c5c-4e95-ffd8-cbf9b50f4ce2"
      },
      "execution_count": null,
      "outputs": [
        {
          "output_type": "stream",
          "name": "stdout",
          "text": [
            "--- Training time: 0.7887616157531738 seconds ---\n",
            "--- Evaluating time: 0.0010058879852294922 seconds ---\n"
          ]
        },
        {
          "output_type": "execute_result",
          "data": {
            "text/plain": [
              "array([[701, 167],\n",
              "       [105,  27]])"
            ]
          },
          "metadata": {},
          "execution_count": 17
        }
      ]
    },
    {
      "cell_type": "code",
      "source": [
        "fig = plt.figure()\n",
        "sns.heatmap(confuse, annot = True, fmt='d')\n",
        "plt.title(\"Confusion matrix of Naive Bayes Classification\")\n",
        "plt.xlabel('Predicted')\n",
        "plt.ylabel('Actual')\n",
        "plt.show()"
      ],
      "metadata": {
        "colab": {
          "base_uri": "https://localhost:8080/",
          "height": 472
        },
        "id": "kSuVlXc2-wjY",
        "outputId": "04d607d1-33af-48d9-e510-965ec04b903f"
      },
      "execution_count": null,
      "outputs": [
        {
          "output_type": "display_data",
          "data": {
            "text/plain": [
              "<Figure size 640x480 with 2 Axes>"
            ],
            "image/png": "[encoded data removed]"
          },
          "metadata": {}
        }
      ]
    },
    {
      "cell_type": "code",
      "source": [
        "F1_score = metrics.f1_score(y_test, result)\n",
        "average_precision = metrics.average_precision_score(y_test, result)\n",
        "precision_score= metrics.precision_score(y_test, result)\n",
        "recall_score = metrics.recall_score(y_test, result)\n",
        "\n",
        "print('F1 score: {0:0.3f}'.format(F1_score))\n",
        "print('Precision score: {0:0.3f}'.format(precision_score))\n",
        "print('Recall score: {0:0.3f}'.format(recall_score))\n",
        "print('Average precision-recall score: {0:0.3f}'.format(\n",
        "      average_precision))"
      ],
      "metadata": {
        "colab": {
          "base_uri": "https://localhost:8080/"
        },
        "id": "pwL2SfTE-zwt",
        "outputId": "f27f3936-6e9f-4310-99bf-dbb32a4d58cc"
      },
      "execution_count": null,
      "outputs": [
        {
          "output_type": "stream",
          "name": "stdout",
          "text": [
            "F1 score: 0.166\n",
            "Precision score: 0.139\n",
            "Recall score: 0.205\n",
            "Average precision-recall score: 0.133\n"
          ]
        }
      ]
    },
    {
      "cell_type": "markdown",
      "source": [
        "## KNN"
      ],
      "metadata": {
        "id": "_awkFOTMcHZV"
      }
    },
    {
      "cell_type": "code",
      "source": [
        "from sklearn.model_selection import GridSearchCV\n",
        "from sklearn.neighbors import KNeighborsClassifier\n",
        "\n",
        "metrics = ['euclidean', 'manhattan', 'cosine']\n",
        "neighbors = list(range(1,20))\n",
        "leaf_size = list(range(1,20))\n",
        "weight = ['uniform', 'distance']\n",
        "param_grid = {'metric' : metrics, 'n_neighbors': neighbors, 'weights' : weight, 'leaf_size' : leaf_size}\n",
        "\n",
        "grid_search = GridSearchCV(KNeighborsClassifier(), param_grid, cv=3)\n",
        "grid_search.fit(test_vector, y_test)\n",
        "grid_search.best_params_"
      ],
      "metadata": {
        "colab": {
          "base_uri": "https://localhost:8080/"
        },
        "id": "qihEf1g2cIOa",
        "outputId": "d04c6b4b-d893-43a7-92ae-4e126dc3bd7b"
      },
      "execution_count": null,
      "outputs": [
        {
          "output_type": "stream",
          "name": "stdout",
          "text": [
            "{'leaf_size': 1, 'metric': 'euclidean', 'n_neighbors': 10, 'weights': 'uniform'}\n"
          ]
        }
      ]
    },
    {
      "cell_type": "code",
      "source": [
        "from sklearn.neighbors import KNeighborsClassifier\n",
        "from sklearn import metrics\n",
        "\n",
        "start_time = time.time()\n",
        "knn_model = KNeighborsClassifier(n_neighbors=4, metric='euclidean', leaf_size=1, weights='uniform')\n",
        "knn_model.fit(comment_matrix, y_train)\n",
        "print(\"--- Training time: %s seconds ---\" % (time.time() - start_time))\n",
        "\n",
        "test_vector = vectorizer.transform(x_test['content'])\n",
        "start_time = time.time()\n",
        "\n",
        "result = knn_model.predict(test_vector)\n",
        "print(\"--- Evaluating time: %s seconds ---\" % (time.time() - start_time))\n",
        "\n",
        "confuse = metrics.confusion_matrix(y_test, result)\n",
        "confuse"
      ],
      "metadata": {
        "colab": {
          "base_uri": "https://localhost:8080/"
        },
        "id": "xkgtDnfNcKva",
        "outputId": "5fa548ec-161f-47ad-8cf9-b264382452b3"
      },
      "execution_count": null,
      "outputs": [
        {
          "output_type": "stream",
          "name": "stdout",
          "text": [
            "--- Training time: 0.022118091583251953 seconds ---\n",
            "--- Evaluating time: 6.641892910003662 seconds ---\n"
          ]
        },
        {
          "output_type": "execute_result",
          "data": {
            "text/plain": [
              "array([[ 25, 843],\n",
              "       [  2, 130]])"
            ]
          },
          "metadata": {},
          "execution_count": 29
        }
      ]
    },
    {
      "cell_type": "code",
      "source": [
        "fig = plt.figure()\n",
        "sns.heatmap(confuse, annot = True, fmt='d')\n",
        "plt.title(\"Confusion matrix of KNN Classification\")\n",
        "plt.xlabel('Predicted')\n",
        "plt.ylabel('Actual')\n",
        "plt.show()"
      ],
      "metadata": {
        "colab": {
          "base_uri": "https://localhost:8080/",
          "height": 472
        },
        "id": "rqjiWv2bcTro",
        "outputId": "accecfea-92e5-4ffa-80cc-8f028d070d87"
      },
      "execution_count": null,
      "outputs": [
        {
          "output_type": "display_data",
          "data": {
            "text/plain": [
              "<Figure size 640x480 with 2 Axes>"
            ],
            "image/png": "[encoded data removed]"
          },
          "metadata": {}
        }
      ]
    },
    {
      "cell_type": "code",
      "source": [
        "F1_score = metrics.f1_score(y_test, result)\n",
        "average_precision = metrics.average_precision_score(y_test, result)\n",
        "precision_score= metrics.precision_score(y_test, result)\n",
        "recall_score = metrics.recall_score(y_test, result)\n",
        "\n",
        "print('F1 score: {0:0.3f}'.format(F1_score))\n",
        "print('Precision score: {0:0.3f}'.format(precision_score))\n",
        "print('Recall score: {0:0.3f}'.format(recall_score))\n",
        "print('Average precision-recall score: {0:0.3f}'.format(average_precision))"
      ],
      "metadata": {
        "colab": {
          "base_uri": "https://localhost:8080/"
        },
        "id": "7N3gch9OcV1j",
        "outputId": "932f01dc-efa9-450e-ecd7-0f86e8656a80"
      },
      "execution_count": null,
      "outputs": [
        {
          "output_type": "stream",
          "name": "stdout",
          "text": [
            "F1 score: 0.235\n",
            "Precision score: 0.134\n",
            "Recall score: 0.985\n",
            "Average precision-recall score: 0.134\n"
          ]
        }
      ]
    },
    {
      "cell_type": "markdown",
      "source": [
        "## SVM"
      ],
      "metadata": {
        "id": "rHFe2emjeJIV"
      }
    },
    {
      "cell_type": "code",
      "source": [
        "from sklearn import svm\n",
        "from sklearn.model_selection import GridSearchCV\n",
        "nfolds=3\n",
        "\n",
        "Cs = [0.001, 0.01, 0.1, 1, 10]\n",
        "gammas = [0.05, 0.1, 0.15, 0.20, 0.25]\n",
        "degrees = [0, 1, 2, 3, 4, 5, 6]\n",
        "kernels = ['rbf', 'linear', 'poly']\n",
        "param_grid = {'C': Cs, 'gamma' : gammas, 'degree' : degrees, 'kernel' : kernels}\n",
        "\n",
        "grid_search = GridSearchCV(svm.SVC(), param_grid, cv = nfolds)\n",
        "grid_search.fit(test_vector, y_test)\n",
        "grid_search.best_params_"
      ],
      "metadata": {
        "colab": {
          "base_uri": "https://localhost:8080/"
        },
        "id": "KYlX3rfGeJhD",
        "outputId": "4929c894-dc4e-49b3-b93e-b25b8f8af16c"
      },
      "execution_count": null,
      "outputs": [
        {
          "output_type": "stream",
          "name": "stdout",
          "text": [
            "{'C': 1, 'degree': 3, 'gamma': 0.05, 'kernel': 'rbf'}\n"
          ]
        }
      ]
    },
    {
      "cell_type": "code",
      "source": [
        "from sklearn import svm\n",
        "start_time = time.time()\n",
        "SVM = svm.SVC(C=10, kernel='rbf', gamma=0.05, degree=3).fit(comment_matrix, y_train)\n",
        "print(\"--- Training time: %s seconds ---\" % (time.time() - start_time))\n",
        "\n",
        "test_vector = vectorizer.transform(x_test['content'])\n",
        "start_time = time.time()\n",
        "result = SVM.predict(test_vector)\n",
        "print(\"--- Evaluating time: %s seconds ---\" % (time.time() - start_time))\n",
        "\n",
        "confuse = metrics.confusion_matrix(y_test, result)\n",
        "confuse"
      ],
      "metadata": {
        "colab": {
          "base_uri": "https://localhost:8080/"
        },
        "id": "wCM59nHfeKof",
        "outputId": "06f9c0d8-606f-4508-a6d0-4d80a19a5b46"
      },
      "execution_count": null,
      "outputs": [
        {
          "output_type": "stream",
          "name": "stdout",
          "text": [
            "--- Training time: 136.36500239372253 seconds ---\n",
            "--- Evaluating time: 1.9688055515289307 seconds ---\n"
          ]
        },
        {
          "output_type": "execute_result",
          "data": {
            "text/plain": [
              "array([[475, 393],\n",
              "       [ 66,  66]])"
            ]
          },
          "metadata": {},
          "execution_count": 38
        }
      ]
    },
    {
      "cell_type": "code",
      "source": [
        "fig = plt.figure()\n",
        "sns.heatmap(confuse, annot = True, fmt='d')\n",
        "plt.title(\"Confusion matrix of SVM\")\n",
        "plt.xlabel('Predicted')\n",
        "plt.ylabel('Actual')\n",
        "plt.show()"
      ],
      "metadata": {
        "colab": {
          "base_uri": "https://localhost:8080/",
          "height": 472
        },
        "id": "qNaeQb8rfZ7A",
        "outputId": "d9eaa91b-cc73-49f0-b2e3-7ffea1024884"
      },
      "execution_count": null,
      "outputs": [
        {
          "output_type": "display_data",
          "data": {
            "text/plain": [
              "<Figure size 640x480 with 2 Axes>"
            ],
            "image/png": "[encoded data removed]"
          },
          "metadata": {}
        }
      ]
    },
    {
      "cell_type": "code",
      "source": [
        "F1_score = metrics.f1_score(y_test, result)\n",
        "average_precision = metrics.average_precision_score(y_test, result)\n",
        "precision_score= metrics.precision_score(y_test, result)\n",
        "recall_score = metrics.recall_score(y_test, result)\n",
        "\n",
        "print('F1 score: {0:0.3f}'.format(F1_score))\n",
        "print('Precision score: {0:0.3f}'.format(precision_score))\n",
        "print('Recall score: {0:0.3f}'.format(recall_score))\n",
        "print('Average precision-recall score: {0:0.3f}'.format(average_precision))"
      ],
      "metadata": {
        "colab": {
          "base_uri": "https://localhost:8080/"
        },
        "id": "kYtw9_lVPIYh",
        "outputId": "6e5b6143-9c1f-474f-b7c0-9d70fc93520b"
      },
      "execution_count": null,
      "outputs": [
        {
          "output_type": "stream",
          "name": "stdout",
          "text": [
            "F1 score: 0.223\n",
            "Precision score: 0.144\n",
            "Recall score: 0.500\n",
            "Average precision-recall score: 0.138\n"
          ]
        }
      ]
    }
  ]
}
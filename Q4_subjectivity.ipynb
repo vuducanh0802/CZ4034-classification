{
  "nbformat": 4,
  "nbformat_minor": 0,
  "metadata": {
    "colab": {
      "provenance": []
    },
    "kernelspec": {
      "name": "python3",
      "display_name": "Python 3"
    },
    "language_info": {
      "name": "python"
    }
  },
  "cells": [
    {
      "cell_type": "code",
      "execution_count": 1,
      "metadata": {
        "id": "Jtp2PTNR1c6e"
      },
      "outputs": [],
      "source": [
        "import pandas as pd\n",
        "import numpy as np\n",
        "import regex as re\n",
        "import nltk\n",
        "import matplotlib.pyplot as plt\n",
        "%matplotlib inline\n",
        "import seaborn as sns\n",
        "from nltk.stem import PorterStemmer\n",
        "from nltk.tokenize import word_tokenize\n",
        "from nltk.corpus import stopwords"
      ]
    },
    {
      "cell_type": "code",
      "source": [
        "df_train = pd.read_csv(\"train.csv\", encoding='unicode_escape')\n",
        "df_train[\"content\"] = df_train[\"text\"]\n",
        "df_test = pd.read_excel(\"test.xlsx\")\n",
        "df_train['content'] = df_train['content'].astype(str)\n",
        "df_test['content'] = df_test['content'].astype(str)"
      ],
      "metadata": {
        "id": "ykz0wAD07Vqi"
      },
      "execution_count": 19,
      "outputs": []
    },
    {
      "cell_type": "code",
      "source": [
        "print(\"Train set length:\", len(df_train))\n",
        "print(\"Test set length:\", len(df_test))"
      ],
      "metadata": {
        "colab": {
          "base_uri": "https://localhost:8080/"
        },
        "id": "QdZTZg0o7zf9",
        "outputId": "ed11b236-4ca7-4280-a287-eee914f13f04"
      },
      "execution_count": 3,
      "outputs": [
        {
          "output_type": "stream",
          "name": "stdout",
          "text": [
            "Train set length: 27481\n",
            "Test set length: 1000\n"
          ]
        }
      ]
    },
    {
      "cell_type": "markdown",
      "source": [
        "### Partitioning"
      ],
      "metadata": {
        "id": "fn9R8Buj-XVi"
      }
    },
    {
      "cell_type": "code",
      "source": [
        "def partition(x):\n",
        "    if x == \"neutral\":\n",
        "        return 1\n",
        "    else:\n",
        "        return 0\n",
        "\n",
        "actualScore = df_train['sentiment']\n",
        "class_ = actualScore.map(partition)\n",
        "df_train['Subjectivity'] = class_\n",
        "df_train.Subjectivity.value_counts()"
      ],
      "metadata": {
        "colab": {
          "base_uri": "https://localhost:8080/"
        },
        "id": "V0vUS5Ey-Skd",
        "outputId": "3e442a00-25fe-4bdf-91c7-51d8a6d73333"
      },
      "execution_count": 42,
      "outputs": [
        {
          "output_type": "execute_result",
          "data": {
            "text/plain": [
              "0    16363\n",
              "1    11118\n",
              "Name: Subjectivity, dtype: int64"
            ]
          },
          "metadata": {},
          "execution_count": 42
        }
      ]
    },
    {
      "cell_type": "markdown",
      "source": [
        "### Stemming"
      ],
      "metadata": {
        "id": "UdvojKQU8Gg1"
      }
    },
    {
      "cell_type": "code",
      "source": [
        "nltk.download('punkt')\n",
        "nltk.download('stopwords')"
      ],
      "metadata": {
        "colab": {
          "base_uri": "https://localhost:8080/"
        },
        "id": "-p3VUrMu8EMF",
        "outputId": "f2082d5c-5a8d-4635-8f60-8e9d23ed13bb"
      },
      "execution_count": 9,
      "outputs": [
        {
          "output_type": "stream",
          "name": "stderr",
          "text": [
            "[nltk_data] Downloading package punkt to /root/nltk_data...\n",
            "[nltk_data]   Unzipping tokenizers/punkt.zip.\n",
            "[nltk_data] Downloading package stopwords to /root/nltk_data...\n",
            "[nltk_data]   Unzipping corpora/stopwords.zip.\n"
          ]
        },
        {
          "output_type": "execute_result",
          "data": {
            "text/plain": [
              "True"
            ]
          },
          "metadata": {},
          "execution_count": 9
        }
      ]
    },
    {
      "cell_type": "code",
      "source": [
        "def stemming(x):\n",
        "    stemmer = PorterStemmer()\n",
        "    x = word_tokenize(x)\n",
        "    output = ''\n",
        "\n",
        "    for i in x:\n",
        "        output += stemmer.stem(i) + ' '\n",
        "\n",
        "    return output"
      ],
      "metadata": {
        "id": "X9Szmzjq8I6R"
      },
      "execution_count": 10,
      "outputs": []
    },
    {
      "cell_type": "code",
      "source": [
        "df_train['content'] = df_train['content'].apply(stemming)\n",
        "df_test['content'] = df_test['content'].apply(stemming)"
      ],
      "metadata": {
        "id": "c69hFxmI8KYL"
      },
      "execution_count": 21,
      "outputs": []
    },
    {
      "cell_type": "markdown",
      "source": [
        "### Lemmatization"
      ],
      "metadata": {
        "id": "YXRVMcvi8bJD"
      }
    },
    {
      "cell_type": "code",
      "source": [
        "nltk.download('wordnet')"
      ],
      "metadata": {
        "colab": {
          "base_uri": "https://localhost:8080/"
        },
        "id": "7W_MZ6p18dLk",
        "outputId": "3adffa35-411a-4918-cd95-678d23f354d7"
      },
      "execution_count": 12,
      "outputs": [
        {
          "output_type": "stream",
          "name": "stderr",
          "text": [
            "[nltk_data] Downloading package wordnet to /root/nltk_data...\n"
          ]
        },
        {
          "output_type": "execute_result",
          "data": {
            "text/plain": [
              "True"
            ]
          },
          "metadata": {},
          "execution_count": 12
        }
      ]
    },
    {
      "cell_type": "code",
      "source": [
        "from nltk.stem import WordNetLemmatizer\n",
        "def get_lemmatized_text(corpus):\n",
        "    lemmatizer = WordNetLemmatizer()\n",
        "    return [' '.join([lemmatizer.lemmatize(word) for word in review.split()]) for review in corpus]"
      ],
      "metadata": {
        "id": "jk3tZN7j8fBD"
      },
      "execution_count": 13,
      "outputs": []
    },
    {
      "cell_type": "code",
      "source": [
        "df_train['content'] = get_lemmatized_text(df_train['content'])\n",
        "df_test['content'] = get_lemmatized_text(df_test['content'])"
      ],
      "metadata": {
        "id": "u_Q0K2zg8gcV"
      },
      "execution_count": 22,
      "outputs": []
    },
    {
      "cell_type": "markdown",
      "source": [
        "### Removal of Stopwords"
      ],
      "metadata": {
        "id": "zkV973MR8nQJ"
      }
    },
    {
      "cell_type": "code",
      "source": [
        "stop = stopwords.words('english')\n",
        "additional_stopwords = [\"'s\",\"...\",\"'ve\",\"``\",\"''\",\"'m\",'--',\"'ll\",\"'d\"]\n",
        "stop = set(stop + additional_stopwords)\n",
        "def remove_stop(x):\n",
        "    x = word_tokenize(x)\n",
        "    store = ''\n",
        "\n",
        "    for i in x:\n",
        "        if i not in stop:\n",
        "            store += i + ' '\n",
        "\n",
        "    return store"
      ],
      "metadata": {
        "id": "857p2Hzp8mxk"
      },
      "execution_count": 15,
      "outputs": []
    },
    {
      "cell_type": "code",
      "source": [
        "df_train['content'] = df_train['content'].apply(remove_stop)\n",
        "df_test['content'] = df_test['content'].apply(remove_stop)"
      ],
      "metadata": {
        "id": "srpbWAjt8qx_"
      },
      "execution_count": 23,
      "outputs": []
    },
    {
      "cell_type": "markdown",
      "source": [
        "### Wordcount"
      ],
      "metadata": {
        "id": "5EW2M2-L8-ca"
      }
    },
    {
      "cell_type": "code",
      "source": [
        "wordcount = df_train['content'].apply(lambda x: len(x.split())).sum()\n",
        "print(\"There are {} words in the corpus.\".format(wordcount))"
      ],
      "metadata": {
        "colab": {
          "base_uri": "https://localhost:8080/"
        },
        "id": "AtTzMbag84AH",
        "outputId": "a2f012c2-9e8d-4e92-d67f-a48813ccf446"
      },
      "execution_count": 17,
      "outputs": [
        {
          "output_type": "stream",
          "name": "stdout",
          "text": [
            "There are 274428 words in the corpus.\n"
          ]
        }
      ]
    },
    {
      "cell_type": "code",
      "source": [
        "df_train.content.str.split(expand=True).stack().value_counts()"
      ],
      "metadata": {
        "colab": {
          "base_uri": "https://localhost:8080/"
        },
        "id": "pSUvKN5m88fC",
        "outputId": "f4874da3-8a14-47b3-b34d-d12d1f3bc435"
      },
      "execution_count": 18,
      "outputs": [
        {
          "output_type": "execute_result",
          "data": {
            "text/plain": [
              "!                       15296\n",
              ".                       13910\n",
              "`                       11614\n",
              ",                        8461\n",
              "*                        4953\n",
              "                        ...  \n",
              "kaila                       1\n",
              "//tinyurl.com/64ozr7        1\n",
              "weeaboo                     1\n",
              "boo-hoo                     1\n",
              "atg                         1\n",
              "Length: 23257, dtype: int64"
            ]
          },
          "metadata": {},
          "execution_count": 18
        }
      ]
    },
    {
      "cell_type": "markdown",
      "source": [
        "## Naive Bayes Classification"
      ],
      "metadata": {
        "id": "2289cM2M9DR8"
      }
    },
    {
      "cell_type": "code",
      "source": [
        "df_test.Subjectivity.value_counts()"
      ],
      "metadata": {
        "colab": {
          "base_uri": "https://localhost:8080/"
        },
        "id": "33vyuKAijPea",
        "outputId": "35cc52de-3f2e-42ad-a9ce-ea681721f2c9"
      },
      "execution_count": 26,
      "outputs": [
        {
          "output_type": "execute_result",
          "data": {
            "text/plain": [
              "0    868\n",
              "1    132\n",
              "Name: Subjectivity, dtype: int64"
            ]
          },
          "metadata": {},
          "execution_count": 26
        }
      ]
    },
    {
      "cell_type": "code",
      "source": [
        "from sklearn.model_selection import train_test_split\n",
        "\n",
        "import time\n",
        "\n",
        "x_train, x_test, y_train, y_test = df_train[[\"content\"]], df_test[[\"content\"]], \\\n",
        "        df_train[\"Subjectivity\"], df_test[\"Subjectivity\"]\n",
        "\n",
        "start_time = time.time()\n",
        "from sklearn.feature_extraction.text import TfidfVectorizer\n",
        "vectorizer = TfidfVectorizer(use_idf=True, sublinear_tf=True)\n",
        "comment_matrix = vectorizer.fit_transform(x_train['content'])\n",
        "\n",
        "from sklearn.naive_bayes import MultinomialNB\n",
        "comment_classifier = MultinomialNB().fit(comment_matrix, y_train)\n",
        "print(\"--- Training time: %s seconds ---\" % (time.time() - start_time))\n",
        "\n",
        "from sklearn import metrics\n",
        "test_vector = vectorizer.transform(x_test['content'])\n",
        "\n",
        "start_time = time.time()\n",
        "result = comment_classifier.predict(test_vector)\n",
        "print(\"--- Evaluating time: %s seconds ---\" % (time.time() - start_time))\n",
        "confuse = metrics.confusion_matrix(y_test, result)\n",
        "confuse\n"
      ],
      "metadata": {
        "colab": {
          "base_uri": "https://localhost:8080/"
        },
        "id": "YgbJI37c9EsU",
        "outputId": "85901ade-09e6-4366-a1b6-5bd44ede1a6e"
      },
      "execution_count": 27,
      "outputs": [
        {
          "output_type": "stream",
          "name": "stdout",
          "text": [
            "--- Training time: 0.698500394821167 seconds ---\n",
            "--- Evaluating time: 0.0018467903137207031 seconds ---\n"
          ]
        },
        {
          "output_type": "execute_result",
          "data": {
            "text/plain": [
              "array([[719, 149],\n",
              "       [114,  18]])"
            ]
          },
          "metadata": {},
          "execution_count": 27
        }
      ]
    },
    {
      "cell_type": "code",
      "source": [
        "fig = plt.figure()\n",
        "sns.heatmap(confuse, annot = True, fmt='d')\n",
        "plt.title(\"Confusion matrix of Naive Bayes Classification\")\n",
        "plt.xlabel('Predicted')\n",
        "plt.ylabel('Actual')\n",
        "plt.show()"
      ],
      "metadata": {
        "colab": {
          "base_uri": "https://localhost:8080/",
          "height": 472
        },
        "id": "kSuVlXc2-wjY",
        "outputId": "bbc1d347-1146-42e0-b68b-c83724168522"
      },
      "execution_count": 30,
      "outputs": [
        {
          "output_type": "display_data",
          "data": {
            "text/plain": [
              "<Figure size 640x480 with 2 Axes>"
            ],
            "image/png": "[encoded data removed]"
          },
          "metadata": {}
        }
      ]
    },
    {
      "cell_type": "code",
      "source": [
        "F1_score = metrics.f1_score(y_test, result)\n",
        "average_precision = metrics.average_precision_score(y_test, result)\n",
        "precision_score= metrics.precision_score(y_test, result)\n",
        "recall_score = metrics.recall_score(y_test, result)\n",
        "\n",
        "print('F1 score: {0:0.3f}'.format(F1_score))\n",
        "print('Precision score: {0:0.3f}'.format(precision_score))\n",
        "print('Recall score: {0:0.3f}'.format(recall_score))\n",
        "print('Average precision-recall score: {0:0.3f}'.format(\n",
        "      average_precision))"
      ],
      "metadata": {
        "colab": {
          "base_uri": "https://localhost:8080/"
        },
        "id": "pwL2SfTE-zwt",
        "outputId": "af26d850-aeba-4e87-a5ca-504bd4b34ee8"
      },
      "execution_count": 31,
      "outputs": [
        {
          "output_type": "stream",
          "name": "stdout",
          "text": [
            "F1 score: 0.120\n",
            "Precision score: 0.108\n",
            "Recall score: 0.136\n",
            "Average precision-recall score: 0.129\n"
          ]
        }
      ]
    },
    {
      "cell_type": "markdown",
      "source": [
        "## KNN"
      ],
      "metadata": {
        "id": "_awkFOTMcHZV"
      }
    },
    {
      "cell_type": "code",
      "source": [
        "from sklearn.model_selection import GridSearchCV\n",
        "from sklearn.neighbors import KNeighborsClassifier\n",
        "\n",
        "metrics = ['euclidean', 'manhattan', 'cosine']\n",
        "neighbors = list(range(1,10))\n",
        "leaf_size = list(range(1,10))\n",
        "weight = ['uniform', 'distance']\n",
        "param_grid = {'metric' : metrics, 'n_neighbors': neighbors, 'weights' : weight, 'leaf_size' : leaf_size}\n",
        "\n",
        "grid_search = GridSearchCV(KNeighborsClassifier(), param_grid, cv=3)\n",
        "grid_search.fit(test_vector, y_test)\n",
        "grid_search.best_params_"
      ],
      "metadata": {
        "colab": {
          "base_uri": "https://localhost:8080/"
        },
        "id": "qihEf1g2cIOa",
        "outputId": "a56e6cc3-3871-45f6-806e-d0bd17c2d95c"
      },
      "execution_count": 32,
      "outputs": [
        {
          "output_type": "execute_result",
          "data": {
            "text/plain": [
              "{'leaf_size': 1, 'metric': 'euclidean', 'n_neighbors': 4, 'weights': 'uniform'}"
            ]
          },
          "metadata": {},
          "execution_count": 32
        }
      ]
    },
    {
      "cell_type": "code",
      "source": [
        "from sklearn.neighbors import KNeighborsClassifier\n",
        "from sklearn import metrics\n",
        "\n",
        "start_time = time.time()\n",
        "knn_model = KNeighborsClassifier(n_neighbors=4, metric='euclidean', leaf_size=1, weights='uniform')\n",
        "knn_model.fit(comment_matrix, y_train)\n",
        "print(\"--- Training time: %s seconds ---\" % (time.time() - start_time))\n",
        "\n",
        "test_vector = vectorizer.transform(x_test['content'])\n",
        "start_time = time.time()\n",
        "\n",
        "result = knn_model.predict(test_vector)\n",
        "print(\"--- Evaluating time: %s seconds ---\" % (time.time() - start_time))\n",
        "\n",
        "confuse = metrics.confusion_matrix(y_test, result)\n",
        "confuse"
      ],
      "metadata": {
        "colab": {
          "base_uri": "https://localhost:8080/"
        },
        "id": "xkgtDnfNcKva",
        "outputId": "80f229f8-04a2-4cf5-8670-a3cd21d22539"
      },
      "execution_count": 33,
      "outputs": [
        {
          "output_type": "stream",
          "name": "stdout",
          "text": [
            "--- Training time: 0.037766218185424805 seconds ---\n",
            "--- Evaluating time: 14.058013677597046 seconds ---\n"
          ]
        },
        {
          "output_type": "execute_result",
          "data": {
            "text/plain": [
              "array([[ 29, 839],\n",
              "       [  7, 125]])"
            ]
          },
          "metadata": {},
          "execution_count": 33
        }
      ]
    },
    {
      "cell_type": "code",
      "source": [
        "fig = plt.figure()\n",
        "sns.heatmap(confuse, annot = True, fmt='d')\n",
        "plt.title(\"Confusion matrix of KNN Classification\")\n",
        "plt.xlabel('Predicted')\n",
        "plt.ylabel('Actual')\n",
        "plt.show()"
      ],
      "metadata": {
        "colab": {
          "base_uri": "https://localhost:8080/",
          "height": 472
        },
        "id": "rqjiWv2bcTro",
        "outputId": "961b6fe2-13ec-4351-c504-e8ca846ace3d"
      },
      "execution_count": 34,
      "outputs": [
        {
          "output_type": "display_data",
          "data": {
            "text/plain": [
              "<Figure size 640x480 with 2 Axes>"
            ],
            "image/png": "[encoded data removed]"
          },
          "metadata": {}
        }
      ]
    },
    {
      "cell_type": "code",
      "source": [
        "F1_score = metrics.f1_score(y_test, result)\n",
        "average_precision = metrics.average_precision_score(y_test, result)\n",
        "precision_score= metrics.precision_score(y_test, result)\n",
        "recall_score = metrics.recall_score(y_test, result)\n",
        "\n",
        "print('F1 score: {0:0.3f}'.format(F1_score))\n",
        "print('Precision score: {0:0.3f}'.format(precision_score))\n",
        "print('Recall score: {0:0.3f}'.format(recall_score))\n",
        "print('Average precision-recall score: {0:0.3f}'.format(average_precision))"
      ],
      "metadata": {
        "colab": {
          "base_uri": "https://localhost:8080/"
        },
        "id": "7N3gch9OcV1j",
        "outputId": "130f6c1d-86ad-4b22-87dc-532abf56e967"
      },
      "execution_count": 35,
      "outputs": [
        {
          "output_type": "stream",
          "name": "stdout",
          "text": [
            "F1 score: 0.228\n",
            "Precision score: 0.130\n",
            "Recall score: 0.947\n",
            "Average precision-recall score: 0.130\n"
          ]
        }
      ]
    },
    {
      "cell_type": "markdown",
      "source": [
        "## SVM"
      ],
      "metadata": {
        "id": "rHFe2emjeJIV"
      }
    },
    {
      "cell_type": "code",
      "source": [
        "from sklearn import svm\n",
        "from sklearn.model_selection import GridSearchCV\n",
        "nfolds=3\n",
        "\n",
        "Cs = [0.001, 0.01, 0.1, 1, 10]\n",
        "gammas = [0.05, 0.1, 0.15, 0.20, 0.25]\n",
        "degrees = [0, 1, 2, 3, 4, 5, 6]\n",
        "kernels = ['rbf', 'linear', 'poly']\n",
        "param_grid = {'C': Cs, 'gamma' : gammas, 'degree' : degrees, 'kernel' : kernels}\n",
        "\n",
        "grid_search = GridSearchCV(svm.SVC(), param_grid, cv = nfolds)\n",
        "grid_search.fit(test_vector, y_test)\n",
        "grid_search.best_params_"
      ],
      "metadata": {
        "colab": {
          "base_uri": "https://localhost:8080/"
        },
        "id": "KYlX3rfGeJhD",
        "outputId": "234c5a47-81d2-4d7a-b425-61598c3b8b04"
      },
      "execution_count": 36,
      "outputs": [
        {
          "output_type": "execute_result",
          "data": {
            "text/plain": [
              "{'C': 0.001, 'degree': 0, 'gamma': 0.05, 'kernel': 'rbf'}"
            ]
          },
          "metadata": {},
          "execution_count": 36
        }
      ]
    },
    {
      "cell_type": "code",
      "source": [
        "from sklearn import svm\n",
        "start_time = time.time()\n",
        "SVM = svm.SVC(C=0.001, kernel='rbf', gamma=0.05, degree=0).fit(comment_matrix, y_train)\n",
        "print(\"--- Training time: %s seconds ---\" % (time.time() - start_time))\n",
        "\n",
        "test_vector = vectorizer.transform(x_test['content'])\n",
        "start_time = time.time()\n",
        "result = SVM.predict(test_vector)\n",
        "print(\"--- Evaluating time: %s seconds ---\" % (time.time() - start_time))\n",
        "\n",
        "confuse = metrics.confusion_matrix(y_test, result)\n",
        "confuse"
      ],
      "metadata": {
        "colab": {
          "base_uri": "https://localhost:8080/"
        },
        "id": "wCM59nHfeKof",
        "outputId": "4c49dede-58a7-4ad7-aead-2d9ebd6aea73"
      },
      "execution_count": 37,
      "outputs": [
        {
          "output_type": "stream",
          "name": "stdout",
          "text": [
            "--- Training time: 67.47172522544861 seconds ---\n",
            "--- Evaluating time: 3.8594982624053955 seconds ---\n"
          ]
        },
        {
          "output_type": "execute_result",
          "data": {
            "text/plain": [
              "array([[868,   0],\n",
              "       [132,   0]])"
            ]
          },
          "metadata": {},
          "execution_count": 37
        }
      ]
    },
    {
      "cell_type": "code",
      "source": [
        "fig = plt.figure()\n",
        "sns.heatmap(confuse, annot = True, fmt='d')\n",
        "plt.title(\"Confusion matrix of SVM\")\n",
        "plt.xlabel('Predicted')\n",
        "plt.ylabel('Actual')\n",
        "plt.show()"
      ],
      "metadata": {
        "colab": {
          "base_uri": "https://localhost:8080/",
          "height": 472
        },
        "id": "qNaeQb8rfZ7A",
        "outputId": "99152e5b-2558-4120-bfd3-1aca246cf37a"
      },
      "execution_count": 38,
      "outputs": [
        {
          "output_type": "display_data",
          "data": {
            "text/plain": [
              "<Figure size 640x480 with 2 Axes>"
            ],
            "image/png": "[encoded data removed]"
          },
          "metadata": {}
        }
      ]
    },
    {
      "cell_type": "code",
      "source": [
        "F1_score = metrics.f1_score(y_test, result)\n",
        "average_precision = metrics.average_precision_score(y_test, result)\n",
        "precision_score= metrics.precision_score(y_test, result)\n",
        "recall_score = metrics.recall_score(y_test, result)\n",
        "\n",
        "print('F1 score: {0:0.3f}'.format(F1_score))\n",
        "print('Precision score: {0:0.3f}'.format(precision_score))\n",
        "print('Recall score: {0:0.3f}'.format(recall_score))\n",
        "print('Average precision-recall score: {0:0.3f}'.format(average_precision))"
      ],
      "metadata": {
        "colab": {
          "base_uri": "https://localhost:8080/"
        },
        "id": "kYtw9_lVPIYh",
        "outputId": "ad910e2c-32c8-4219-8578-32d1c597c271"
      },
      "execution_count": 39,
      "outputs": [
        {
          "output_type": "stream",
          "name": "stdout",
          "text": [
            "F1 score: 0.000\n",
            "Precision score: 0.000\n",
            "Recall score: 0.000\n",
            "Average precision-recall score: 0.132\n"
          ]
        },
        {
          "output_type": "stream",
          "name": "stderr",
          "text": [
            "/usr/local/lib/python3.10/dist-packages/sklearn/metrics/_classification.py:1344: UndefinedMetricWarning: Precision is ill-defined and being set to 0.0 due to no predicted samples. Use `zero_division` parameter to control this behavior.\n",
            "  _warn_prf(average, modifier, msg_start, len(result))\n"
          ]
        }
      ]
    }
  ]
}